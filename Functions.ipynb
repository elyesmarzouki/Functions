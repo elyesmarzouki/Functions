{
 "cells": [
  {
   "cell_type": "code",
   "execution_count": 1,
   "id": "0cf7f40a",
   "metadata": {},
   "outputs": [],
   "source": [
    "def maximum(a,b,c):\n",
    "    maximum = a\n",
    "    if b>a:\n",
    "        if b>c:\n",
    "            maximum =b\n",
    "        else:\n",
    "            maximum=c\n",
    "    elif c>a:\n",
    "        if c>b:\n",
    "            maximum =c\n",
    "        else:\n",
    "            maximum=b\n",
    "    return maximum"
   ]
  },
  {
   "cell_type": "code",
   "execution_count": 3,
   "id": "29e8e452",
   "metadata": {},
   "outputs": [
    {
     "data": {
      "text/plain": [
       "35"
      ]
     },
     "execution_count": 3,
     "metadata": {},
     "output_type": "execute_result"
    }
   ],
   "source": [
    "maximum(20,35,19)"
   ]
  },
  {
   "cell_type": "code",
   "execution_count": 11,
   "id": "8f29efc1",
   "metadata": {},
   "outputs": [],
   "source": [
    "def calculation(a,b):\n",
    "    return a-b, a+b"
   ]
  },
  {
   "cell_type": "code",
   "execution_count": 12,
   "id": "ce38d95f",
   "metadata": {},
   "outputs": [
    {
     "data": {
      "text/plain": [
       "(-2, 10)"
      ]
     },
     "execution_count": 12,
     "metadata": {},
     "output_type": "execute_result"
    }
   ],
   "source": [
    "calculation(4,6)"
   ]
  },
  {
   "cell_type": "code",
   "execution_count": 14,
   "id": "80c585db",
   "metadata": {},
   "outputs": [],
   "source": [
    "def sum_list(lst):\n",
    "    return sum(lst)\n",
    "\n",
    "def multiply_list(lst):\n",
    "    result = 1\n",
    "    for num in lst:\n",
    "        result *= num\n",
    "    return result\n",
    "\n",
    "def calculate(lst):\n",
    "    even_sum = sum_list([lst[i] for i in range(len(lst)) if i % 2 == 0])\n",
    "    odd_multiply = multiply_list([lst[i] for i in range(len(lst)) if i % 2 != 0])\n",
    "    return even_sum + odd_multiply"
   ]
  },
  {
   "cell_type": "code",
   "execution_count": 15,
   "id": "405f2dc5",
   "metadata": {},
   "outputs": [],
   "source": [
    "def first_letter_uppercase(d):\n",
    "    result = {}\n",
    "    for key, value in d.items():\n",
    "        result[key] = value[0].upper()\n",
    "    return result"
   ]
  },
  {
   "cell_type": "code",
   "execution_count": 16,
   "id": "3830ed03",
   "metadata": {},
   "outputs": [],
   "source": [
    "def largest_word(d):\n",
    "    largest = \"\"\n",
    "    for word in d:\n",
    "        if len(word) > len(largest):\n",
    "            largest = word\n",
    "    return largest"
   ]
  },
  {
   "cell_type": "code",
   "execution_count": null,
   "id": "6f8da95f",
   "metadata": {},
   "outputs": [],
   "source": [
    "def function(items):\n",
    "    items = input(\"Enter hyphen-separated sequence of words: \")\n",
    "    words = items.split(\"-\")\n",
    "    words.sort()\n",
    "    result = \"-\".join(words)\n",
    "pr"
   ]
  }
 ],
 "metadata": {
  "kernelspec": {
   "display_name": "Python 3 (ipykernel)",
   "language": "python",
   "name": "python3"
  },
  "language_info": {
   "codemirror_mode": {
    "name": "ipython",
    "version": 3
   },
   "file_extension": ".py",
   "mimetype": "text/x-python",
   "name": "python",
   "nbconvert_exporter": "python",
   "pygments_lexer": "ipython3",
   "version": "3.9.13"
  }
 },
 "nbformat": 4,
 "nbformat_minor": 5
}
